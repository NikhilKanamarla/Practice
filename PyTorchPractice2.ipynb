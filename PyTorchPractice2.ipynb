{
  "nbformat": 4,
  "nbformat_minor": 0,
  "metadata": {
    "colab": {
      "name": "PyTorchPractice2.ipynb",
      "provenance": [],
      "mount_file_id": "1yDLDyb52mf5gE5uRz5F2U-NPsGRUSjlq",
      "authorship_tag": "ABX9TyO5idDmPK4rk9mehJ7SOHZP",
      "include_colab_link": true
    },
    "kernelspec": {
      "name": "python3",
      "display_name": "Python 3"
    },
    "accelerator": "GPU"
  },
  "cells": [
    {
      "cell_type": "markdown",
      "metadata": {
        "id": "view-in-github",
        "colab_type": "text"
      },
      "source": [
        "<a href=\"https://colab.research.google.com/github/NikhilKanamarla/Practice/blob/master/PyTorchPractice2.ipynb\" target=\"_parent\"><img src=\"https://colab.research.google.com/assets/colab-badge.svg\" alt=\"Open In Colab\"/></a>"
      ]
    },
    {
      "cell_type": "markdown",
      "metadata": {
        "id": "z-bcLqbe1gn1"
      },
      "source": [
        "Intro to the torch tensor"
      ]
    },
    {
      "cell_type": "code",
      "metadata": {
        "colab": {
          "base_uri": "https://localhost:8080/"
        },
        "id": "TobcNcQ6ok8J",
        "outputId": "13ce8ac7-ca34-4e34-ee53-c835eea243cb"
      },
      "source": [
        "import torch\n",
        "#run terminal commands\n",
        "!nvidia-smi\n",
        "x = torch.empty(1)\n",
        "z = torch.zeros(2,3)\n",
        "print(x)\n",
        "print(z)\n",
        "#an array of data which runs well on the GPU\n",
        "x = torch.Tensor([5,3])\n",
        "print (x * x)\n",
        "y = torch.zeros([2,5])\n",
        "print(y)\n",
        "#check size of tensor\n",
        "print(y.shape)\n",
        "#random initalization\n",
        "y = torch.rand(2,5)\n",
        "print(y)\n",
        "#reshape tensor to fit input shape of neural network\n",
        "y = y.view([1,10])\n",
        "print(y.shape)"
      ],
      "execution_count": 7,
      "outputs": [
        {
          "output_type": "stream",
          "text": [
            "Thu Nov 19 04:51:16 2020       \n",
            "+-----------------------------------------------------------------------------+\n",
            "| NVIDIA-SMI 455.38       Driver Version: 418.67       CUDA Version: 10.1     |\n",
            "|-------------------------------+----------------------+----------------------+\n",
            "| GPU  Name        Persistence-M| Bus-Id        Disp.A | Volatile Uncorr. ECC |\n",
            "| Fan  Temp  Perf  Pwr:Usage/Cap|         Memory-Usage | GPU-Util  Compute M. |\n",
            "|                               |                      |               MIG M. |\n",
            "|===============================+======================+======================|\n",
            "|   0  Tesla T4            Off  | 00000000:00:04.0 Off |                    0 |\n",
            "| N/A   43C    P8    10W /  70W |      0MiB / 15079MiB |      0%      Default |\n",
            "|                               |                      |                 ERR! |\n",
            "+-------------------------------+----------------------+----------------------+\n",
            "                                                                               \n",
            "+-----------------------------------------------------------------------------+\n",
            "| Processes:                                                                  |\n",
            "|  GPU   GI   CI        PID   Type   Process name                  GPU Memory |\n",
            "|        ID   ID                                                   Usage      |\n",
            "|=============================================================================|\n",
            "|  No running processes found                                                 |\n",
            "+-----------------------------------------------------------------------------+\n",
            "tensor([1.0110e-35])\n",
            "tensor([[0., 0., 0.],\n",
            "        [0., 0., 0.]])\n",
            "tensor([25.,  9.])\n",
            "tensor([[0., 0., 0., 0., 0.],\n",
            "        [0., 0., 0., 0., 0.]])\n",
            "torch.Size([2, 5])\n",
            "tensor([[0.8070, 0.8625, 0.0975, 0.3056, 0.2779],\n",
            "        [0.3508, 0.6478, 0.2103, 0.4261, 0.5726]])\n",
            "torch.Size([1, 10])\n"
          ],
          "name": "stdout"
        }
      ]
    },
    {
      "cell_type": "markdown",
      "metadata": {
        "id": "JEqr9f3q1bBg"
      },
      "source": [
        "Data "
      ]
    },
    {
      "cell_type": "code",
      "metadata": {
        "colab": {
          "base_uri": "https://localhost:8080/"
        },
        "id": "Ww87BeZO3B56",
        "outputId": "8ca3e0c4-8068-4734-d660-8f93da477f46"
      },
      "source": [
        "import torch\n",
        "import torchvision\n",
        "from torchvision import transforms, datasets\n",
        "\n",
        "#get datasets using torchvision.datasets \n",
        "train = torchvision.datasets.MNIST(\"\", train=True, download=True,transform=transforms.Compose([transforms.ToTensor()]))\n",
        "test = torchvision.datasets.MNIST(\"\", train=False, download=True,transform=transforms.Compose([transforms.ToTensor()]))\n",
        "\n",
        "print(test)\n"
      ],
      "execution_count": 19,
      "outputs": [
        {
          "output_type": "stream",
          "text": [
            "Dataset MNIST\n",
            "    Number of datapoints: 10000\n",
            "    Root location: \n",
            "    Split: Test\n",
            "    StandardTransform\n",
            "Transform: Compose(\n",
            "               ToTensor()\n",
            "           )\n"
          ],
          "name": "stdout"
        }
      ]
    }
  ]
}