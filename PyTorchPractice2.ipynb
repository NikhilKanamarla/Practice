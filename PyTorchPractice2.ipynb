{
  "nbformat": 4,
  "nbformat_minor": 0,
  "metadata": {
    "colab": {
      "name": "PyTorchPractice2.ipynb",
      "provenance": [],
      "authorship_tag": "ABX9TyOvHROLfE/WyanbA8nmWRmu",
      "include_colab_link": true
    },
    "kernelspec": {
      "name": "python3",
      "display_name": "Python 3"
    },
    "accelerator": "GPU"
  },
  "cells": [
    {
      "cell_type": "markdown",
      "metadata": {
        "id": "view-in-github",
        "colab_type": "text"
      },
      "source": [
        "<a href=\"https://colab.research.google.com/github/NikhilKanamarla/Practice/blob/master/PyTorchPractice2.ipynb\" target=\"_parent\"><img src=\"https://colab.research.google.com/assets/colab-badge.svg\" alt=\"Open In Colab\"/></a>"
      ]
    },
    {
      "cell_type": "code",
      "metadata": {
        "colab": {
          "base_uri": "https://localhost:8080/"
        },
        "id": "TobcNcQ6ok8J",
        "outputId": "dfb98c86-1698-4798-bb36-e2c42b4b4212"
      },
      "source": [
        "import torch\n",
        "x = torch.empty(1)\n",
        "z = torch.zeros(2,3)\n",
        "print(x)\n",
        "print(z)\n",
        "#an array of data which runs well on the GPU\n",
        "x = torch.Tensor([5,3])\n",
        "print (x * x)\n",
        "y = torch.zeros([2,5])\n",
        "print(y)\n",
        "#check size of tensor\n",
        "print(y.shape)\n",
        "#random initalization\n",
        "y = torch.rand(2,5)\n",
        "print(y)\n",
        "#reshape tensor to fit input shape of neural network\n",
        "y = y.view([1,10])\n",
        "print(y.shape)"
      ],
      "execution_count": 6,
      "outputs": [
        {
          "output_type": "stream",
          "text": [
            "tensor([1.0112e-35])\n",
            "tensor([[0., 0., 0.],\n",
            "        [0., 0., 0.]])\n",
            "tensor([25.,  9.])\n",
            "tensor([[0., 0., 0., 0., 0.],\n",
            "        [0., 0., 0., 0., 0.]])\n",
            "torch.Size([2, 5])\n",
            "tensor([[0.5629, 0.3775, 0.9956, 0.3239, 0.7829],\n",
            "        [0.9785, 0.7673, 0.3446, 0.5217, 0.3014]])\n",
            "torch.Size([1, 10])\n"
          ],
          "name": "stdout"
        }
      ]
    }
  ]
}